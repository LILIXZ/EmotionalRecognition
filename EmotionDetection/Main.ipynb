{
  "cells": [
    {
      "cell_type": "markdown",
      "source": [
        "# Setup \n",
        "Mounting with Google Drive and import FER-2013 dataset"
      ],
      "metadata": {
        "id": "zZewo-NT8MxE"
      }
    },
    {
      "cell_type": "code",
      "execution_count": 2,
      "metadata": {
        "colab": {
          "base_uri": "https://localhost:8080/"
        },
        "id": "pX-WKkitf3lw",
        "outputId": "0f8cb4be-3b37-49f0-c5bf-4c6c38dc29d6"
      },
      "outputs": [
        {
          "output_type": "stream",
          "name": "stdout",
          "text": [
            "Drive already mounted at /content/drive; to attempt to forcibly remount, call drive.mount(\"/content/drive\", force_remount=True).\n",
            "/content/drive/My Drive/Others/CNN/EmotionDetection\n"
          ]
        }
      ],
      "source": [
        "# This mounts your Google Drive to the Colab VM.\n",
        "from google.colab import drive\n",
        "drive.mount('/content/drive')\n",
        "\n",
        "FOLDERNAME = 'Others/CNN/EmotionDetection/'\n",
        "assert FOLDERNAME is not None, \"[!] Enter the foldername.\"\n",
        "\n",
        "# Now that we've mounted your Drive, this ensures that\n",
        "# the Python interpreter of the Colab VM can load\n",
        "# python files from within it.\n",
        "import sys\n",
        "sys.path.append('/content/drive/My Drive/{}'.format(FOLDERNAME))\n",
        "\n",
        "%cd /content/drive/My\\ Drive/$FOLDERNAME"
      ]
    },
    {
      "cell_type": "code",
      "execution_count": 5,
      "metadata": {
        "id": "RZnuIiJUfz7g"
      },
      "outputs": [],
      "source": [
        "# Setup cell.\n",
        "import numpy as np\n",
        "import matplotlib.pyplot as plt\n",
        "from utils.classifiers.cnn import *\n",
        "from utils.data_utils import get_FER2013_data\n",
        "from utils.gradient_check import eval_numerical_gradient_array, eval_numerical_gradient\n",
        "from utils.layers import *\n",
        "from utils.fast_layers import *\n",
        "from utils.solver import Solver\n",
        "from utils import *\n",
        "\n",
        "\n",
        "%matplotlib inline\n",
        "plt.rcParams['figure.figsize'] = (10.0, 8.0) # set default size of plots\n",
        "plt.rcParams['image.interpolation'] = 'nearest'\n",
        "plt.rcParams['image.cmap'] = 'gray'\n",
        "\n",
        "# for auto-reloading external modules\n",
        "# see http://stackoverflow.com/questions/1907993/autoreload-of-modules-in-ipython\n",
        "%load_ext autoreload\n",
        "%autoreload 2\n",
        "\n",
        "def rel_error(x, y):\n",
        "  \"\"\" returns relative error \"\"\"\n",
        "  return np.max(np.abs(x - y) / (np.maximum(1e-8, np.abs(x) + np.abs(y))))"
      ]
    },
    {
      "cell_type": "code",
      "execution_count": null,
      "metadata": {
        "id": "KueM9Tsqn1cj",
        "colab": {
          "base_uri": "https://localhost:8080/"
        },
        "outputId": "c08d8f95-85a0-4783-9666-ae88b61d016d"
      },
      "outputs": [
        {
          "output_type": "stream",
          "name": "stdout",
          "text": [
            "X_train: (28709, 3, 48, 48)\n",
            "y_train: (28709,)\n",
            "X_val: (100, 3, 48, 48)\n",
            "y_val: (100,)\n",
            "X_test: (7078, 3, 48, 48)\n",
            "y_test: (7078,)\n"
          ]
        }
      ],
      "source": [
        "# Load the FER-2013 data.\n",
        "data = get_FER2013_data()\n",
        "for k, v in list(data.items()):\n",
        "    print(f\"{k}: {v.shape}\")"
      ]
    },
    {
      "cell_type": "markdown",
      "source": [
        "# Three Layer Convolutional Network from CS231N\n",
        "conv - relu - 2x2 max pool - affine - relu - affine - softmax"
      ],
      "metadata": {
        "id": "ZJUYGTXy6pmb"
      }
    },
    {
      "cell_type": "code",
      "execution_count": null,
      "metadata": {
        "colab": {
          "base_uri": "https://localhost:8080/"
        },
        "id": "Dk9kXdtPPBf4",
        "outputId": "6c2ab60f-8c50-405f-8da4-b163c6534656"
      },
      "outputs": [
        {
          "output_type": "stream",
          "name": "stdout",
          "text": [
            "(Iteration 1 / 17940) loss: 2.399097\n",
            "(Epoch 0 / 10) train acc: 0.150000; val_acc: 0.150000\n",
            "(Iteration 101 / 17940) loss: 1.773630\n",
            "(Iteration 201 / 17940) loss: 1.730709\n",
            "(Iteration 301 / 17940) loss: 1.878641\n",
            "(Iteration 401 / 17940) loss: 1.872846\n",
            "(Iteration 501 / 17940) loss: 1.584386\n",
            "(Iteration 601 / 17940) loss: 1.079733\n",
            "(Iteration 701 / 17940) loss: 1.652692\n",
            "(Iteration 801 / 17940) loss: 1.539489\n",
            "(Iteration 901 / 17940) loss: 1.629950\n",
            "(Iteration 1001 / 17940) loss: 1.385599\n",
            "(Iteration 1101 / 17940) loss: 1.755043\n",
            "(Iteration 1201 / 17940) loss: 1.668481\n",
            "(Iteration 1301 / 17940) loss: 1.916072\n",
            "(Iteration 1401 / 17940) loss: 2.104347\n",
            "(Iteration 1501 / 17940) loss: 1.479724\n",
            "(Iteration 1601 / 17940) loss: 1.808767\n",
            "(Iteration 1701 / 17940) loss: 1.494986\n",
            "(Epoch 1 / 10) train acc: 0.469000; val_acc: 0.490000\n",
            "(Iteration 1801 / 17940) loss: 1.332074\n",
            "(Iteration 1901 / 17940) loss: 1.627656\n",
            "(Iteration 2001 / 17940) loss: 1.598147\n",
            "(Iteration 2101 / 17940) loss: 1.602137\n",
            "(Iteration 2201 / 17940) loss: 1.518870\n",
            "(Iteration 2301 / 17940) loss: 1.333814\n",
            "(Iteration 2401 / 17940) loss: 1.378784\n",
            "(Iteration 2501 / 17940) loss: 1.183618\n",
            "(Iteration 2601 / 17940) loss: 1.442939\n",
            "(Iteration 2701 / 17940) loss: 1.493137\n",
            "(Iteration 2801 / 17940) loss: 1.381132\n",
            "(Iteration 2901 / 17940) loss: 1.664067\n",
            "(Iteration 3001 / 17940) loss: 1.638331\n",
            "(Iteration 3101 / 17940) loss: 1.366260\n",
            "(Iteration 3201 / 17940) loss: 1.199385\n",
            "(Iteration 3301 / 17940) loss: 1.236040\n",
            "(Iteration 3401 / 17940) loss: 1.203776\n",
            "(Iteration 3501 / 17940) loss: 1.396754\n",
            "(Epoch 2 / 10) train acc: 0.503000; val_acc: 0.460000\n",
            "(Iteration 3601 / 17940) loss: 1.832407\n",
            "(Iteration 3701 / 17940) loss: 1.543959\n",
            "(Iteration 3801 / 17940) loss: 1.331966\n",
            "(Iteration 3901 / 17940) loss: 1.454228\n",
            "(Iteration 4001 / 17940) loss: 1.416394\n",
            "(Iteration 4101 / 17940) loss: 1.471779\n",
            "(Iteration 4201 / 17940) loss: 1.168743\n",
            "(Iteration 4301 / 17940) loss: 1.549708\n",
            "(Iteration 4401 / 17940) loss: 1.475892\n",
            "(Iteration 4501 / 17940) loss: 1.393746\n",
            "(Iteration 4601 / 17940) loss: 1.125456\n",
            "(Iteration 4701 / 17940) loss: 1.616270\n",
            "(Iteration 4801 / 17940) loss: 1.471959\n",
            "(Iteration 4901 / 17940) loss: 1.224519\n",
            "(Iteration 5001 / 17940) loss: 1.167621\n",
            "(Iteration 5101 / 17940) loss: 1.592496\n",
            "(Iteration 5201 / 17940) loss: 1.087824\n",
            "(Iteration 5301 / 17940) loss: 1.522291\n",
            "(Epoch 3 / 10) train acc: 0.533000; val_acc: 0.490000\n",
            "(Iteration 5401 / 17940) loss: 0.931669\n",
            "(Iteration 5501 / 17940) loss: 0.886631\n",
            "(Iteration 5601 / 17940) loss: 1.542177\n",
            "(Iteration 5701 / 17940) loss: 1.616022\n",
            "(Iteration 5801 / 17940) loss: 1.243730\n",
            "(Iteration 5901 / 17940) loss: 1.270563\n",
            "(Iteration 6001 / 17940) loss: 1.480846\n",
            "(Iteration 6101 / 17940) loss: 0.918742\n",
            "(Iteration 6201 / 17940) loss: 1.118839\n",
            "(Iteration 6301 / 17940) loss: 1.245007\n",
            "(Iteration 6401 / 17940) loss: 1.189219\n",
            "(Iteration 6501 / 17940) loss: 0.745104\n",
            "(Iteration 6601 / 17940) loss: 0.748701\n",
            "(Iteration 6701 / 17940) loss: 1.172104\n",
            "(Iteration 6801 / 17940) loss: 1.381501\n",
            "(Iteration 6901 / 17940) loss: 1.167190\n",
            "(Iteration 7001 / 17940) loss: 0.742694\n",
            "(Iteration 7101 / 17940) loss: 1.117511\n",
            "(Epoch 4 / 10) train acc: 0.599000; val_acc: 0.470000\n",
            "(Iteration 7201 / 17940) loss: 1.158684\n",
            "(Iteration 7301 / 17940) loss: 0.521103\n",
            "(Iteration 7401 / 17940) loss: 1.177895\n",
            "(Iteration 7501 / 17940) loss: 1.051419\n",
            "(Iteration 7601 / 17940) loss: 1.253538\n",
            "(Iteration 7701 / 17940) loss: 0.769287\n",
            "(Iteration 7801 / 17940) loss: 1.376668\n",
            "(Iteration 7901 / 17940) loss: 1.241503\n",
            "(Iteration 8001 / 17940) loss: 1.678378\n",
            "(Iteration 8101 / 17940) loss: 1.262154\n",
            "(Iteration 8201 / 17940) loss: 1.360648\n",
            "(Iteration 8301 / 17940) loss: 0.767834\n",
            "(Iteration 8401 / 17940) loss: 1.397694\n",
            "(Iteration 8501 / 17940) loss: 1.119810\n",
            "(Iteration 8601 / 17940) loss: 0.847834\n",
            "(Iteration 8701 / 17940) loss: 0.726640\n",
            "(Iteration 8801 / 17940) loss: 0.681551\n",
            "(Iteration 8901 / 17940) loss: 0.913924\n",
            "(Epoch 5 / 10) train acc: 0.661000; val_acc: 0.470000\n",
            "(Iteration 9001 / 17940) loss: 0.993686\n",
            "(Iteration 9101 / 17940) loss: 1.365490\n",
            "(Iteration 9201 / 17940) loss: 0.854886\n",
            "(Iteration 9301 / 17940) loss: 1.250369\n",
            "(Iteration 9401 / 17940) loss: 1.197317\n",
            "(Iteration 9501 / 17940) loss: 1.027726\n",
            "(Iteration 9601 / 17940) loss: 1.073181\n",
            "(Iteration 9701 / 17940) loss: 0.732361\n",
            "(Iteration 9801 / 17940) loss: 1.123282\n",
            "(Iteration 9901 / 17940) loss: 1.246678\n",
            "(Iteration 10001 / 17940) loss: 1.069235\n",
            "(Iteration 10101 / 17940) loss: 1.442646\n",
            "(Iteration 10201 / 17940) loss: 0.858369\n",
            "(Iteration 10301 / 17940) loss: 0.594826\n",
            "(Iteration 10401 / 17940) loss: 0.623157\n",
            "(Iteration 10501 / 17940) loss: 0.904835\n",
            "(Iteration 10601 / 17940) loss: 1.067534\n",
            "(Iteration 10701 / 17940) loss: 1.402682\n",
            "(Epoch 6 / 10) train acc: 0.673000; val_acc: 0.470000\n",
            "(Iteration 10801 / 17940) loss: 1.149868\n",
            "(Iteration 10901 / 17940) loss: 0.814915\n",
            "(Iteration 11001 / 17940) loss: 1.018359\n",
            "(Iteration 11101 / 17940) loss: 0.766305\n",
            "(Iteration 11201 / 17940) loss: 1.261849\n",
            "(Iteration 11301 / 17940) loss: 0.816591\n",
            "(Iteration 11401 / 17940) loss: 0.789552\n",
            "(Iteration 11501 / 17940) loss: 0.818584\n",
            "(Iteration 11601 / 17940) loss: 0.744430\n",
            "(Iteration 11701 / 17940) loss: 0.732227\n",
            "(Iteration 11801 / 17940) loss: 1.084055\n",
            "(Iteration 11901 / 17940) loss: 0.853633\n",
            "(Iteration 12001 / 17940) loss: 0.615727\n",
            "(Iteration 12101 / 17940) loss: 1.015806\n",
            "(Iteration 12201 / 17940) loss: 1.409852\n",
            "(Iteration 12301 / 17940) loss: 0.648572\n",
            "(Iteration 12401 / 17940) loss: 0.652625\n",
            "(Iteration 12501 / 17940) loss: 0.647513\n",
            "(Epoch 7 / 10) train acc: 0.714000; val_acc: 0.500000\n",
            "(Iteration 12601 / 17940) loss: 0.939751\n",
            "(Iteration 12701 / 17940) loss: 0.646497\n",
            "(Iteration 12801 / 17940) loss: 0.811162\n",
            "(Iteration 12901 / 17940) loss: 0.872331\n",
            "(Iteration 13001 / 17940) loss: 0.785234\n",
            "(Iteration 13101 / 17940) loss: 0.898512\n",
            "(Iteration 13201 / 17940) loss: 0.845647\n",
            "(Iteration 13301 / 17940) loss: 0.550026\n",
            "(Iteration 13401 / 17940) loss: 0.957252\n",
            "(Iteration 13501 / 17940) loss: 1.136317\n",
            "(Iteration 13601 / 17940) loss: 0.689909\n",
            "(Iteration 13701 / 17940) loss: 0.760313\n",
            "(Iteration 13801 / 17940) loss: 0.629806\n",
            "(Iteration 13901 / 17940) loss: 0.838670\n",
            "(Iteration 14001 / 17940) loss: 0.651402\n",
            "(Iteration 14101 / 17940) loss: 0.910813\n",
            "(Iteration 14201 / 17940) loss: 1.070999\n",
            "(Iteration 14301 / 17940) loss: 0.603842\n",
            "(Epoch 8 / 10) train acc: 0.733000; val_acc: 0.480000\n",
            "(Iteration 14401 / 17940) loss: 0.712045\n",
            "(Iteration 14501 / 17940) loss: 1.426766\n",
            "(Iteration 14601 / 17940) loss: 1.083234\n",
            "(Iteration 14701 / 17940) loss: 0.759463\n",
            "(Iteration 14801 / 17940) loss: 0.907307\n",
            "(Iteration 14901 / 17940) loss: 0.377141\n",
            "(Iteration 15001 / 17940) loss: 0.486662\n",
            "(Iteration 15101 / 17940) loss: 0.830458\n",
            "(Iteration 15201 / 17940) loss: 1.211110\n",
            "(Iteration 15301 / 17940) loss: 0.736001\n",
            "(Iteration 15401 / 17940) loss: 0.847301\n",
            "(Iteration 15501 / 17940) loss: 0.960361\n",
            "(Iteration 15601 / 17940) loss: 0.872459\n",
            "(Iteration 15701 / 17940) loss: 0.514733\n",
            "(Iteration 15801 / 17940) loss: 0.623403\n",
            "(Iteration 15901 / 17940) loss: 0.788204\n",
            "(Iteration 16001 / 17940) loss: 0.556464\n",
            "(Iteration 16101 / 17940) loss: 0.778089\n",
            "(Epoch 9 / 10) train acc: 0.760000; val_acc: 0.480000\n",
            "(Iteration 16201 / 17940) loss: 1.213372\n",
            "(Iteration 16301 / 17940) loss: 1.475722\n",
            "(Iteration 16401 / 17940) loss: 0.735020\n",
            "(Iteration 16501 / 17940) loss: 0.638728\n",
            "(Iteration 16601 / 17940) loss: 0.623737\n",
            "(Iteration 16701 / 17940) loss: 0.692381\n",
            "(Iteration 16801 / 17940) loss: 0.786851\n",
            "(Iteration 16901 / 17940) loss: 0.678515\n",
            "(Iteration 17001 / 17940) loss: 0.730505\n",
            "(Iteration 17101 / 17940) loss: 0.954912\n",
            "(Iteration 17201 / 17940) loss: 0.800616\n",
            "(Iteration 17301 / 17940) loss: 0.776676\n",
            "(Iteration 17401 / 17940) loss: 0.645959\n",
            "(Iteration 17501 / 17940) loss: 0.404753\n",
            "(Iteration 17601 / 17940) loss: 0.338945\n",
            "(Iteration 17701 / 17940) loss: 1.069466\n",
            "(Iteration 17801 / 17940) loss: 0.588775\n",
            "(Iteration 17901 / 17940) loss: 0.748687\n",
            "(Epoch 10 / 10) train acc: 0.756000; val_acc: 0.470000\n"
          ]
        }
      ],
      "source": [
        "from utils.classifiers.cnn  import *\n",
        "\n",
        "model = ThreeLayerConvNet(weight_scale=1e-2, hidden_dim=256, reg=0.001)\n",
        "solver = Solver(\n",
        "    model,\n",
        "    data,\n",
        "    num_epochs=10,\n",
        "    batch_size=16,\n",
        "    update_rule='adam',\n",
        "    optim_config={'learning_rate': 1e-4},\n",
        "    verbose=True,\n",
        "    print_every=100,\n",
        ")\n",
        "solver.train()"
      ]
    },
    {
      "cell_type": "code",
      "source": [
        "# Print final training accuracy.\n",
        "print(\n",
        "    \"Full data training accuracy:\",\n",
        "    solver.check_accuracy(data['X_train'], data['y_train'])\n",
        ")"
      ],
      "metadata": {
        "colab": {
          "base_uri": "https://localhost:8080/"
        },
        "id": "O6hZBZkL62_2",
        "outputId": "e966e4fe-1c8e-48c2-df02-c69f3e343168"
      },
      "execution_count": null,
      "outputs": [
        {
          "output_type": "stream",
          "name": "stdout",
          "text": [
            "Full data training accuracy: 0.7111358807342645\n"
          ]
        }
      ]
    },
    {
      "cell_type": "code",
      "source": [
        "# Print final validation accuracy.\n",
        "print(\n",
        "    \"Full data validation accuracy:\",\n",
        "    solver.check_accuracy(data['X_val'], data['y_val'])\n",
        ")"
      ],
      "metadata": {
        "colab": {
          "base_uri": "https://localhost:8080/"
        },
        "id": "JKGX_THM66H9",
        "outputId": "8178bcc0-47f0-4dea-faa9-41b7f15e2fa6"
      },
      "execution_count": null,
      "outputs": [
        {
          "output_type": "stream",
          "name": "stdout",
          "text": [
            "Full data validation accuracy: 0.5\n"
          ]
        }
      ]
    },
    {
      "cell_type": "code",
      "source": [
        "plt.subplot(2, 1, 1)\n",
        "plt.plot(solver.loss_history, 'o')\n",
        "plt.xlabel('iteration')\n",
        "plt.ylabel('loss')\n",
        "\n",
        "plt.subplot(2, 1, 2)\n",
        "plt.plot(solver.train_acc_history, '-o')\n",
        "plt.plot(solver.val_acc_history, '-o')\n",
        "plt.legend(['train', 'val'], loc='upper left')\n",
        "plt.xlabel('epoch')\n",
        "plt.ylabel('accuracy')\n",
        "plt.show()"
      ],
      "metadata": {
        "colab": {
          "base_uri": "https://localhost:8080/",
          "height": 497
        },
        "id": "ydZlQ_b_8cXM",
        "outputId": "65412843-83a1-467a-cafa-2ed0cdd17d97"
      },
      "execution_count": null,
      "outputs": [
        {
          "output_type": "display_data",
          "data": {
            "text/plain": [
              "<Figure size 720x576 with 2 Axes>"
            ],
            "image/png": "[encoded data removed]"
          },
          "metadata": {
            "needs_background": "light"
          }
        }
      ]
    },
    {
      "cell_type": "markdown",
      "source": [
        "# Emotion Model\n",
        "Conv - ReLu - Max - Conv - ReLu - Max - Flatten - Affine - ReLu - Affine - ReLu - Affine - SoftMax"
      ],
      "metadata": {
        "id": "D7sdIGFD6-Xm"
      }
    },
    {
      "cell_type": "code",
      "source": [
        "from utils.classifiers.emotion_model  import *\n",
        "model = EmotionModel(weight_scale=1e-2, hidden_dim=256, reg=0.001)\n",
        "solver = Solver(\n",
        "    model,\n",
        "    data,\n",
        "    num_epochs=10,\n",
        "    batch_size=16,\n",
        "    update_rule='adam',\n",
        "    optim_config={'learning_rate': 1e-4},\n",
        "    verbose=True,\n",
        "    print_every=100,\n",
        ")\n",
        "solver.train()"
      ],
      "metadata": {
        "colab": {
          "base_uri": "https://localhost:8080/"
        },
        "id": "8ZKWkmd9Ouws",
        "outputId": "d32c3de8-bfaa-436c-9880-5a4d9c5147b7"
      },
      "execution_count": null,
      "outputs": [
        {
          "output_type": "stream",
          "name": "stdout",
          "text": [
            "(Iteration 1 / 17940) loss: 2.039845\n",
            "(Epoch 0 / 10) train acc: 0.199000; val_acc: 0.290000\n",
            "(Iteration 101 / 17940) loss: 1.755219\n",
            "(Iteration 201 / 17940) loss: 1.778436\n",
            "(Iteration 301 / 17940) loss: 1.890450\n",
            "(Iteration 401 / 17940) loss: 1.717983\n",
            "(Iteration 501 / 17940) loss: 1.775428\n",
            "(Iteration 601 / 17940) loss: 1.488618\n",
            "(Iteration 701 / 17940) loss: 1.699900\n",
            "(Iteration 801 / 17940) loss: 1.580542\n",
            "(Iteration 901 / 17940) loss: 1.744025\n",
            "(Iteration 1001 / 17940) loss: 1.583373\n",
            "(Iteration 1101 / 17940) loss: 1.595370\n",
            "(Iteration 1201 / 17940) loss: 1.581243\n",
            "(Iteration 1301 / 17940) loss: 1.743648\n",
            "(Iteration 1401 / 17940) loss: 1.661200\n",
            "(Iteration 1501 / 17940) loss: 1.537050\n",
            "(Iteration 1601 / 17940) loss: 1.810248\n",
            "(Iteration 1701 / 17940) loss: 1.416201\n",
            "(Epoch 1 / 10) train acc: 0.436000; val_acc: 0.430000\n",
            "(Iteration 1801 / 17940) loss: 1.450915\n",
            "(Iteration 1901 / 17940) loss: 1.527494\n",
            "(Iteration 2001 / 17940) loss: 1.569774\n",
            "(Iteration 2101 / 17940) loss: 1.340738\n",
            "(Iteration 2201 / 17940) loss: 1.604783\n",
            "(Iteration 2301 / 17940) loss: 1.637196\n",
            "(Iteration 2401 / 17940) loss: 1.313656\n",
            "(Iteration 2501 / 17940) loss: 1.255204\n",
            "(Iteration 2601 / 17940) loss: 1.430488\n",
            "(Iteration 2701 / 17940) loss: 1.675352\n",
            "(Iteration 2801 / 17940) loss: 1.148910\n",
            "(Iteration 2901 / 17940) loss: 1.283569\n",
            "(Iteration 3001 / 17940) loss: 1.219394\n",
            "(Iteration 3101 / 17940) loss: 1.462992\n",
            "(Iteration 3201 / 17940) loss: 1.184525\n",
            "(Iteration 3301 / 17940) loss: 1.252468\n",
            "(Iteration 3401 / 17940) loss: 1.485402\n",
            "(Iteration 3501 / 17940) loss: 1.068847\n",
            "(Epoch 2 / 10) train acc: 0.551000; val_acc: 0.460000\n",
            "(Iteration 3601 / 17940) loss: 1.378129\n",
            "(Iteration 3701 / 17940) loss: 1.250822\n",
            "(Iteration 3801 / 17940) loss: 1.524811\n",
            "(Iteration 3901 / 17940) loss: 1.189003\n",
            "(Iteration 4001 / 17940) loss: 1.089012\n",
            "(Iteration 4101 / 17940) loss: 1.385461\n",
            "(Iteration 4201 / 17940) loss: 1.061477\n",
            "(Iteration 4301 / 17940) loss: 1.484047\n",
            "(Iteration 4401 / 17940) loss: 1.657619\n",
            "(Iteration 4501 / 17940) loss: 1.170276\n",
            "(Iteration 4601 / 17940) loss: 1.164583\n",
            "(Iteration 4701 / 17940) loss: 1.226564\n",
            "(Iteration 4801 / 17940) loss: 1.040794\n",
            "(Iteration 4901 / 17940) loss: 1.558565\n",
            "(Iteration 5001 / 17940) loss: 1.067818\n",
            "(Iteration 5101 / 17940) loss: 1.398774\n",
            "(Iteration 5201 / 17940) loss: 1.360006\n",
            "(Iteration 5301 / 17940) loss: 1.067065\n",
            "(Epoch 3 / 10) train acc: 0.608000; val_acc: 0.460000\n",
            "(Iteration 5401 / 17940) loss: 0.791967\n",
            "(Iteration 5501 / 17940) loss: 1.552514\n",
            "(Iteration 5601 / 17940) loss: 0.923920\n",
            "(Iteration 5701 / 17940) loss: 1.074658\n",
            "(Iteration 5801 / 17940) loss: 1.377760\n",
            "(Iteration 5901 / 17940) loss: 1.377427\n",
            "(Iteration 6001 / 17940) loss: 1.384026\n",
            "(Iteration 6101 / 17940) loss: 1.117891\n",
            "(Iteration 6201 / 17940) loss: 1.207392\n",
            "(Iteration 6301 / 17940) loss: 1.541127\n",
            "(Iteration 6401 / 17940) loss: 1.364673\n",
            "(Iteration 6501 / 17940) loss: 1.372647\n",
            "(Iteration 6601 / 17940) loss: 1.181851\n",
            "(Iteration 6701 / 17940) loss: 1.137881\n",
            "(Iteration 6801 / 17940) loss: 0.860878\n",
            "(Iteration 6901 / 17940) loss: 1.300945\n",
            "(Iteration 7001 / 17940) loss: 0.826694\n",
            "(Iteration 7101 / 17940) loss: 1.182777\n",
            "(Epoch 4 / 10) train acc: 0.670000; val_acc: 0.570000\n",
            "(Iteration 7201 / 17940) loss: 1.486870\n",
            "(Iteration 7301 / 17940) loss: 1.459093\n",
            "(Iteration 7401 / 17940) loss: 1.232948\n",
            "(Iteration 7501 / 17940) loss: 1.042192\n",
            "(Iteration 7601 / 17940) loss: 1.194063\n",
            "(Iteration 7701 / 17940) loss: 1.030818\n",
            "(Iteration 7801 / 17940) loss: 0.796396\n",
            "(Iteration 7901 / 17940) loss: 0.665107\n",
            "(Iteration 8001 / 17940) loss: 1.194875\n",
            "(Iteration 8101 / 17940) loss: 1.053265\n",
            "(Iteration 8201 / 17940) loss: 0.919508\n",
            "(Iteration 8301 / 17940) loss: 0.992014\n",
            "(Iteration 8401 / 17940) loss: 0.893125\n",
            "(Iteration 8501 / 17940) loss: 0.849694\n",
            "(Iteration 8601 / 17940) loss: 0.904709\n",
            "(Iteration 8701 / 17940) loss: 1.540554\n",
            "(Iteration 8801 / 17940) loss: 1.122794\n",
            "(Iteration 8901 / 17940) loss: 1.204055\n",
            "(Epoch 5 / 10) train acc: 0.710000; val_acc: 0.570000\n",
            "(Iteration 9001 / 17940) loss: 0.756821\n",
            "(Iteration 9101 / 17940) loss: 1.156504\n",
            "(Iteration 9201 / 17940) loss: 0.567449\n",
            "(Iteration 9301 / 17940) loss: 0.583333\n",
            "(Iteration 9401 / 17940) loss: 0.764165\n",
            "(Iteration 9501 / 17940) loss: 0.717378\n",
            "(Iteration 9601 / 17940) loss: 1.062679\n",
            "(Iteration 9701 / 17940) loss: 1.383384\n",
            "(Iteration 9801 / 17940) loss: 0.345337\n",
            "(Iteration 9901 / 17940) loss: 0.773889\n",
            "(Iteration 10001 / 17940) loss: 0.623665\n",
            "(Iteration 10101 / 17940) loss: 0.796017\n",
            "(Iteration 10201 / 17940) loss: 1.019965\n",
            "(Iteration 10301 / 17940) loss: 0.623890\n",
            "(Iteration 10401 / 17940) loss: 0.644412\n",
            "(Iteration 10501 / 17940) loss: 0.628305\n",
            "(Iteration 10601 / 17940) loss: 0.453560\n",
            "(Iteration 10701 / 17940) loss: 0.413266\n",
            "(Epoch 6 / 10) train acc: 0.773000; val_acc: 0.590000\n",
            "(Iteration 10801 / 17940) loss: 1.166593\n",
            "(Iteration 10901 / 17940) loss: 0.722087\n",
            "(Iteration 11001 / 17940) loss: 0.687570\n",
            "(Iteration 11101 / 17940) loss: 0.467187\n",
            "(Iteration 11201 / 17940) loss: 0.882056\n",
            "(Iteration 11301 / 17940) loss: 0.736283\n",
            "(Iteration 11401 / 17940) loss: 0.426001\n",
            "(Iteration 11501 / 17940) loss: 0.853038\n",
            "(Iteration 11601 / 17940) loss: 0.600582\n",
            "(Iteration 11701 / 17940) loss: 0.871902\n",
            "(Iteration 11801 / 17940) loss: 0.600646\n",
            "(Iteration 11901 / 17940) loss: 0.512915\n",
            "(Iteration 12001 / 17940) loss: 0.675109\n",
            "(Iteration 12101 / 17940) loss: 0.594536\n",
            "(Iteration 12201 / 17940) loss: 0.658270\n",
            "(Iteration 12301 / 17940) loss: 0.798299\n",
            "(Iteration 12401 / 17940) loss: 0.728739\n",
            "(Iteration 12501 / 17940) loss: 0.842045\n",
            "(Epoch 7 / 10) train acc: 0.835000; val_acc: 0.530000\n",
            "(Iteration 12601 / 17940) loss: 0.788310\n",
            "(Iteration 12701 / 17940) loss: 0.531320\n",
            "(Iteration 12801 / 17940) loss: 0.529470\n",
            "(Iteration 12901 / 17940) loss: 0.569730\n",
            "(Iteration 13001 / 17940) loss: 0.276935\n",
            "(Iteration 13101 / 17940) loss: 0.450575\n",
            "(Iteration 13201 / 17940) loss: 0.278660\n",
            "(Iteration 13301 / 17940) loss: 0.339757\n",
            "(Iteration 13401 / 17940) loss: 0.678169\n",
            "(Iteration 13501 / 17940) loss: 0.307929\n",
            "(Iteration 13601 / 17940) loss: 0.442781\n",
            "(Iteration 13701 / 17940) loss: 0.597206\n",
            "(Iteration 13801 / 17940) loss: 0.464134\n",
            "(Iteration 13901 / 17940) loss: 0.378530\n",
            "(Iteration 14001 / 17940) loss: 0.958377\n",
            "(Iteration 14101 / 17940) loss: 0.296718\n",
            "(Iteration 14201 / 17940) loss: 0.719988\n",
            "(Iteration 14301 / 17940) loss: 0.455956\n",
            "(Epoch 8 / 10) train acc: 0.831000; val_acc: 0.520000\n",
            "(Iteration 14401 / 17940) loss: 0.639759\n",
            "(Iteration 14501 / 17940) loss: 0.588909\n",
            "(Iteration 14601 / 17940) loss: 0.552476\n",
            "(Iteration 14701 / 17940) loss: 0.856464\n",
            "(Iteration 14801 / 17940) loss: 0.370847\n",
            "(Iteration 14901 / 17940) loss: 0.647179\n",
            "(Iteration 15001 / 17940) loss: 0.561873\n",
            "(Iteration 15101 / 17940) loss: 0.687012\n",
            "(Iteration 15201 / 17940) loss: 0.530785\n",
            "(Iteration 15301 / 17940) loss: 0.448268\n",
            "(Iteration 15401 / 17940) loss: 0.573391\n",
            "(Iteration 15501 / 17940) loss: 0.479588\n",
            "(Iteration 15601 / 17940) loss: 0.392775\n",
            "(Iteration 15701 / 17940) loss: 0.614003\n",
            "(Iteration 15801 / 17940) loss: 0.634192\n",
            "(Iteration 15901 / 17940) loss: 0.281556\n",
            "(Iteration 16001 / 17940) loss: 0.398708\n",
            "(Iteration 16101 / 17940) loss: 0.341628\n",
            "(Epoch 9 / 10) train acc: 0.899000; val_acc: 0.570000\n",
            "(Iteration 16201 / 17940) loss: 0.448593\n",
            "(Iteration 16301 / 17940) loss: 0.357682\n",
            "(Iteration 16401 / 17940) loss: 0.490865\n",
            "(Iteration 16501 / 17940) loss: 0.213152\n",
            "(Iteration 16601 / 17940) loss: 0.629764\n",
            "(Iteration 16701 / 17940) loss: 0.382949\n",
            "(Iteration 16801 / 17940) loss: 0.280432\n",
            "(Iteration 16901 / 17940) loss: 0.147631\n",
            "(Iteration 17001 / 17940) loss: 0.400218\n",
            "(Iteration 17101 / 17940) loss: 0.261907\n",
            "(Iteration 17201 / 17940) loss: 0.223113\n",
            "(Iteration 17301 / 17940) loss: 0.486913\n",
            "(Iteration 17401 / 17940) loss: 0.304906\n",
            "(Iteration 17501 / 17940) loss: 0.279559\n",
            "(Iteration 17601 / 17940) loss: 0.340131\n",
            "(Iteration 17701 / 17940) loss: 0.281008\n",
            "(Iteration 17801 / 17940) loss: 0.333048\n",
            "(Iteration 17901 / 17940) loss: 0.252030\n",
            "(Epoch 10 / 10) train acc: 0.916000; val_acc: 0.510000\n"
          ]
        }
      ]
    },
    {
      "cell_type": "code",
      "source": [
        "# Print final training accuracy.\n",
        "print(\n",
        "    \"Full data training accuracy:\",\n",
        "    solver.check_accuracy(data['X_train'], data['y_train'])\n",
        ")"
      ],
      "metadata": {
        "colab": {
          "base_uri": "https://localhost:8080/"
        },
        "id": "2QiGHsds7Z20",
        "outputId": "bbbf1f5c-d8b4-4b86-ca4b-3dfae25b8aa7"
      },
      "execution_count": null,
      "outputs": [
        {
          "output_type": "stream",
          "name": "stdout",
          "text": [
            "Full data training accuracy: 0.7697237799993033\n"
          ]
        }
      ]
    },
    {
      "cell_type": "code",
      "source": [
        "# Print final validation accuracy.\n",
        "print(\n",
        "    \"Full data validation accuracy:\",\n",
        "    solver.check_accuracy(data['X_val'], data['y_val'])\n",
        ")"
      ],
      "metadata": {
        "colab": {
          "base_uri": "https://localhost:8080/"
        },
        "id": "2OYXYKWp7amz",
        "outputId": "f375e736-4ce4-462a-e487-07606b1459f6"
      },
      "execution_count": null,
      "outputs": [
        {
          "output_type": "stream",
          "name": "stdout",
          "text": [
            "Full data validation accuracy: 0.59\n"
          ]
        }
      ]
    },
    {
      "cell_type": "code",
      "source": [
        "plt.subplot(2, 1, 1)\n",
        "plt.plot(solver.loss_history, 'o')\n",
        "plt.xlabel('iteration')\n",
        "plt.ylabel('loss')\n",
        "\n",
        "plt.subplot(2, 1, 2)\n",
        "plt.plot(solver.train_acc_history, '-o')\n",
        "plt.plot(solver.val_acc_history, '-o')\n",
        "plt.legend(['train', 'val'], loc='upper left')\n",
        "plt.xlabel('epoch')\n",
        "plt.ylabel('accuracy')\n",
        "plt.show()"
      ],
      "metadata": {
        "colab": {
          "base_uri": "https://localhost:8080/",
          "height": 497
        },
        "id": "AefV9VBhKj5L",
        "outputId": "766bf3d6-bd6b-4e6a-9556-8494ace33f23"
      },
      "execution_count": null,
      "outputs": [
        {
          "output_type": "display_data",
          "data": {
            "text/plain": [
              "<Figure size 720x576 with 2 Axes>"
            ],
            "image/png": "[encoded data removed]"
          },
          "metadata": {
            "needs_background": "light"
          }
        }
      ]
    },
    {
      "cell_type": "markdown",
      "source": [
        "# Emotion Model with Dropout layer\n",
        "On top of emotion model, added dropout layer so that the architecture becomes \n",
        "\n",
        "Conv - ReLu - Max - Conv - ReLu - Max - Flatten - Affine - ReLu - **Dropout**(0.5) - Affine - ReLu - Affine - SoftMax"
      ],
      "metadata": {
        "id": "kDfWx64e7eNr"
      }
    },
    {
      "cell_type": "code",
      "source": [
        "from utils.classifiers.emotion_model_with_dropout import *\n",
        "\n",
        "model = EmotionModelWithDropout(weight_scale=1e-2, hidden_dim=256, reg=0.001)\n",
        "solver = Solver(\n",
        "    model,\n",
        "    data,\n",
        "    num_epochs=10,\n",
        "    batch_size=16,\n",
        "    update_rule='adam',\n",
        "    optim_config={'learning_rate': 1e-4},\n",
        "    verbose=True,\n",
        "    print_every=100,\n",
        ")\n",
        "solver.train()"
      ],
      "metadata": {
        "colab": {
          "base_uri": "https://localhost:8080/"
        },
        "id": "HdJk6lDHuXNv",
        "outputId": "59225763-f9c8-42a5-81dc-a5b59162d308"
      },
      "execution_count": null,
      "outputs": [
        {
          "output_type": "stream",
          "name": "stdout",
          "text": [
            "(Iteration 1 / 17940) loss: 2.031614\n",
            "(Epoch 0 / 10) train acc: 0.154000; val_acc: 0.230000\n",
            "(Iteration 101 / 17940) loss: 1.881192\n",
            "(Iteration 201 / 17940) loss: 1.852349\n",
            "(Iteration 301 / 17940) loss: 2.427777\n",
            "(Iteration 401 / 17940) loss: 1.750935\n",
            "(Iteration 501 / 17940) loss: 1.836038\n",
            "(Iteration 601 / 17940) loss: 1.758566\n",
            "(Iteration 701 / 17940) loss: 1.774250\n",
            "(Iteration 801 / 17940) loss: 1.529267\n",
            "(Iteration 901 / 17940) loss: 1.244393\n",
            "(Iteration 1001 / 17940) loss: 2.013200\n",
            "(Iteration 1101 / 17940) loss: 1.294109\n",
            "(Iteration 1201 / 17940) loss: 1.329643\n",
            "(Iteration 1301 / 17940) loss: 2.150568\n",
            "(Iteration 1401 / 17940) loss: 1.641098\n",
            "(Iteration 1501 / 17940) loss: 1.407318\n",
            "(Iteration 1601 / 17940) loss: 1.659158\n",
            "(Iteration 1701 / 17940) loss: 1.833007\n",
            "(Epoch 1 / 10) train acc: 0.426000; val_acc: 0.440000\n",
            "(Iteration 1801 / 17940) loss: 1.839520\n",
            "(Iteration 1901 / 17940) loss: 1.565166\n",
            "(Iteration 2001 / 17940) loss: 1.575012\n",
            "(Iteration 2101 / 17940) loss: 1.190863\n",
            "(Iteration 2201 / 17940) loss: 1.395791\n",
            "(Iteration 2301 / 17940) loss: 1.680734\n",
            "(Iteration 2401 / 17940) loss: 1.352420\n",
            "(Iteration 2501 / 17940) loss: 1.498967\n",
            "(Iteration 2601 / 17940) loss: 1.252760\n",
            "(Iteration 2701 / 17940) loss: 1.033316\n",
            "(Iteration 2801 / 17940) loss: 1.147727\n",
            "(Iteration 2901 / 17940) loss: 1.162304\n",
            "(Iteration 3001 / 17940) loss: 1.250096\n",
            "(Iteration 3101 / 17940) loss: 1.647339\n",
            "(Iteration 3201 / 17940) loss: 1.558629\n",
            "(Iteration 3301 / 17940) loss: 1.228526\n",
            "(Iteration 3401 / 17940) loss: 1.124926\n",
            "(Iteration 3501 / 17940) loss: 1.046830\n",
            "(Epoch 2 / 10) train acc: 0.463000; val_acc: 0.470000\n",
            "(Iteration 3601 / 17940) loss: 1.193960\n",
            "(Iteration 3701 / 17940) loss: 1.174831\n",
            "(Iteration 3801 / 17940) loss: 1.479198\n",
            "(Iteration 3901 / 17940) loss: 1.602511\n",
            "(Iteration 4001 / 17940) loss: 1.440574\n",
            "(Iteration 4101 / 17940) loss: 1.258790\n",
            "(Iteration 4201 / 17940) loss: 1.251352\n",
            "(Iteration 4301 / 17940) loss: 1.395947\n",
            "(Iteration 4401 / 17940) loss: 1.685640\n",
            "(Iteration 4501 / 17940) loss: 1.543324\n",
            "(Iteration 4601 / 17940) loss: 1.365201\n",
            "(Iteration 4701 / 17940) loss: 1.157538\n",
            "(Iteration 4801 / 17940) loss: 1.654793\n",
            "(Iteration 4901 / 17940) loss: 1.687873\n",
            "(Iteration 5001 / 17940) loss: 1.005774\n",
            "(Iteration 5101 / 17940) loss: 0.868397\n",
            "(Iteration 5201 / 17940) loss: 2.180066\n",
            "(Iteration 5301 / 17940) loss: 1.533464\n",
            "(Epoch 3 / 10) train acc: 0.523000; val_acc: 0.500000\n",
            "(Iteration 5401 / 17940) loss: 0.852976\n",
            "(Iteration 5501 / 17940) loss: 1.407072\n",
            "(Iteration 5601 / 17940) loss: 1.288668\n",
            "(Iteration 5701 / 17940) loss: 1.106204\n",
            "(Iteration 5801 / 17940) loss: 1.009692\n",
            "(Iteration 5901 / 17940) loss: 0.912601\n",
            "(Iteration 6001 / 17940) loss: 1.572365\n",
            "(Iteration 6101 / 17940) loss: 1.216016\n",
            "(Iteration 6201 / 17940) loss: 0.767279\n",
            "(Iteration 6301 / 17940) loss: 1.226802\n",
            "(Iteration 6401 / 17940) loss: 1.577794\n",
            "(Iteration 6501 / 17940) loss: 1.177310\n",
            "(Iteration 6601 / 17940) loss: 1.448900\n",
            "(Iteration 6701 / 17940) loss: 1.047487\n",
            "(Iteration 6801 / 17940) loss: 1.329463\n",
            "(Iteration 6901 / 17940) loss: 1.005690\n",
            "(Iteration 7001 / 17940) loss: 1.163747\n",
            "(Iteration 7101 / 17940) loss: 1.308577\n",
            "(Epoch 4 / 10) train acc: 0.602000; val_acc: 0.500000\n",
            "(Iteration 7201 / 17940) loss: 2.005867\n",
            "(Iteration 7301 / 17940) loss: 0.850767\n",
            "(Iteration 7401 / 17940) loss: 1.677855\n",
            "(Iteration 7501 / 17940) loss: 1.216471\n",
            "(Iteration 7601 / 17940) loss: 1.267695\n",
            "(Iteration 7701 / 17940) loss: 1.224138\n",
            "(Iteration 7801 / 17940) loss: 1.624159\n",
            "(Iteration 7901 / 17940) loss: 1.078803\n",
            "(Iteration 8001 / 17940) loss: 1.371693\n",
            "(Iteration 8101 / 17940) loss: 1.503502\n",
            "(Iteration 8201 / 17940) loss: 1.393377\n",
            "(Iteration 8301 / 17940) loss: 1.344960\n",
            "(Iteration 8401 / 17940) loss: 1.058709\n",
            "(Iteration 8501 / 17940) loss: 0.967386\n",
            "(Iteration 8601 / 17940) loss: 0.789533\n",
            "(Iteration 8701 / 17940) loss: 1.259957\n",
            "(Iteration 8801 / 17940) loss: 1.267379\n",
            "(Iteration 8901 / 17940) loss: 0.587282\n",
            "(Epoch 5 / 10) train acc: 0.625000; val_acc: 0.550000\n",
            "(Iteration 9001 / 17940) loss: 0.916086\n",
            "(Iteration 9101 / 17940) loss: 0.951111\n",
            "(Iteration 9201 / 17940) loss: 1.003981\n",
            "(Iteration 9301 / 17940) loss: 1.027893\n",
            "(Iteration 9401 / 17940) loss: 0.762775\n",
            "(Iteration 9501 / 17940) loss: 1.152266\n",
            "(Iteration 9601 / 17940) loss: 1.401514\n",
            "(Iteration 9701 / 17940) loss: 0.870208\n",
            "(Iteration 9801 / 17940) loss: 0.905400\n",
            "(Iteration 9901 / 17940) loss: 1.076588\n",
            "(Iteration 10001 / 17940) loss: 1.053221\n",
            "(Iteration 10101 / 17940) loss: 0.854399\n",
            "(Iteration 10201 / 17940) loss: 1.311819\n",
            "(Iteration 10301 / 17940) loss: 1.186352\n",
            "(Iteration 10401 / 17940) loss: 0.954412\n",
            "(Iteration 10501 / 17940) loss: 0.636928\n",
            "(Iteration 10601 / 17940) loss: 1.315926\n",
            "(Iteration 10701 / 17940) loss: 0.932294\n",
            "(Epoch 6 / 10) train acc: 0.656000; val_acc: 0.500000\n",
            "(Iteration 10801 / 17940) loss: 0.973400\n",
            "(Iteration 10901 / 17940) loss: 1.149911\n",
            "(Iteration 11001 / 17940) loss: 0.957920\n",
            "(Iteration 11101 / 17940) loss: 0.651778\n",
            "(Iteration 11201 / 17940) loss: 0.797264\n",
            "(Iteration 11301 / 17940) loss: 1.526906\n",
            "(Iteration 11401 / 17940) loss: 1.088994\n",
            "(Iteration 11501 / 17940) loss: 0.965827\n",
            "(Iteration 11601 / 17940) loss: 1.019970\n",
            "(Iteration 11701 / 17940) loss: 1.170358\n",
            "(Iteration 11801 / 17940) loss: 0.763994\n",
            "(Iteration 11901 / 17940) loss: 0.587523\n",
            "(Iteration 12001 / 17940) loss: 0.799656\n",
            "(Iteration 12101 / 17940) loss: 1.143456\n",
            "(Iteration 12201 / 17940) loss: 0.979302\n",
            "(Iteration 12301 / 17940) loss: 0.889582\n",
            "(Iteration 12401 / 17940) loss: 0.698516\n",
            "(Iteration 12501 / 17940) loss: 0.589355\n",
            "(Epoch 7 / 10) train acc: 0.682000; val_acc: 0.560000\n",
            "(Iteration 12601 / 17940) loss: 1.119164\n",
            "(Iteration 12701 / 17940) loss: 1.193582\n",
            "(Iteration 12801 / 17940) loss: 0.638185\n",
            "(Iteration 12901 / 17940) loss: 0.630844\n",
            "(Iteration 13001 / 17940) loss: 0.821106\n",
            "(Iteration 13101 / 17940) loss: 0.821647\n",
            "(Iteration 13201 / 17940) loss: 1.064498\n",
            "(Iteration 13301 / 17940) loss: 1.411497\n",
            "(Iteration 13401 / 17940) loss: 1.177098\n",
            "(Iteration 13501 / 17940) loss: 0.680733\n",
            "(Iteration 13601 / 17940) loss: 1.214022\n",
            "(Iteration 13701 / 17940) loss: 0.904308\n",
            "(Iteration 13801 / 17940) loss: 1.047933\n",
            "(Iteration 13901 / 17940) loss: 0.964901\n",
            "(Iteration 14001 / 17940) loss: 1.174047\n",
            "(Iteration 14101 / 17940) loss: 1.006501\n",
            "(Iteration 14201 / 17940) loss: 0.670971\n",
            "(Iteration 14301 / 17940) loss: 0.730851\n",
            "(Epoch 8 / 10) train acc: 0.719000; val_acc: 0.510000\n",
            "(Iteration 14401 / 17940) loss: 0.914372\n",
            "(Iteration 14501 / 17940) loss: 0.978496\n",
            "(Iteration 14601 / 17940) loss: 0.864053\n",
            "(Iteration 14701 / 17940) loss: 0.669500\n",
            "(Iteration 14801 / 17940) loss: 0.933032\n",
            "(Iteration 14901 / 17940) loss: 0.516141\n",
            "(Iteration 15001 / 17940) loss: 0.638284\n",
            "(Iteration 15101 / 17940) loss: 0.618197\n",
            "(Iteration 15201 / 17940) loss: 0.751941\n",
            "(Iteration 15301 / 17940) loss: 1.046768\n",
            "(Iteration 15401 / 17940) loss: 0.800801\n",
            "(Iteration 15501 / 17940) loss: 0.892385\n",
            "(Iteration 15601 / 17940) loss: 0.768907\n",
            "(Iteration 15701 / 17940) loss: 0.803747\n",
            "(Iteration 15801 / 17940) loss: 0.365958\n",
            "(Iteration 15901 / 17940) loss: 0.477957\n",
            "(Iteration 16001 / 17940) loss: 0.896203\n",
            "(Iteration 16101 / 17940) loss: 1.064636\n",
            "(Epoch 9 / 10) train acc: 0.737000; val_acc: 0.510000\n",
            "(Iteration 16201 / 17940) loss: 0.726416\n",
            "(Iteration 16301 / 17940) loss: 1.167395\n",
            "(Iteration 16401 / 17940) loss: 0.621893\n",
            "(Iteration 16501 / 17940) loss: 0.997740\n",
            "(Iteration 16601 / 17940) loss: 1.013917\n",
            "(Iteration 16701 / 17940) loss: 0.561803\n",
            "(Iteration 16801 / 17940) loss: 0.769186\n",
            "(Iteration 16901 / 17940) loss: 0.737793\n",
            "(Iteration 17001 / 17940) loss: 0.969057\n",
            "(Iteration 17101 / 17940) loss: 0.713176\n",
            "(Iteration 17201 / 17940) loss: 0.659911\n",
            "(Iteration 17301 / 17940) loss: 1.051627\n",
            "(Iteration 17401 / 17940) loss: 0.928649\n",
            "(Iteration 17501 / 17940) loss: 0.790684\n",
            "(Iteration 17601 / 17940) loss: 0.715300\n",
            "(Iteration 17701 / 17940) loss: 1.045047\n",
            "(Iteration 17801 / 17940) loss: 0.548378\n",
            "(Iteration 17901 / 17940) loss: 1.068837\n",
            "(Epoch 10 / 10) train acc: 0.761000; val_acc: 0.520000\n"
          ]
        }
      ]
    },
    {
      "cell_type": "code",
      "source": [
        "# Print final training accuracy.\n",
        "print(\n",
        "    \"Full data training accuracy:\",\n",
        "    solver.check_accuracy(data['X_train'], data['y_train'])\n",
        ")"
      ],
      "metadata": {
        "id": "6n8tVvco7l0q",
        "colab": {
          "base_uri": "https://localhost:8080/"
        },
        "outputId": "19c2d2b7-1e1f-48fe-fa40-182118175ee5"
      },
      "execution_count": null,
      "outputs": [
        {
          "output_type": "stream",
          "name": "stdout",
          "text": [
            "Full data training accuracy: 0.6889477167438782\n"
          ]
        }
      ]
    },
    {
      "cell_type": "code",
      "source": [
        "# Print final validation accuracy.\n",
        "print(\n",
        "    \"Full data validation accuracy:\",\n",
        "    solver.check_accuracy(data['X_val'], data['y_val'])\n",
        ")"
      ],
      "metadata": {
        "id": "jEKUl_hG7n3l",
        "colab": {
          "base_uri": "https://localhost:8080/"
        },
        "outputId": "dffcb7d3-227b-4c0d-a672-cb5628e3ee24"
      },
      "execution_count": null,
      "outputs": [
        {
          "output_type": "stream",
          "name": "stdout",
          "text": [
            "Full data validation accuracy: 0.54\n"
          ]
        }
      ]
    },
    {
      "cell_type": "code",
      "source": [
        "plt.subplot(2, 1, 1)\n",
        "plt.plot(solver.loss_history, 'o')\n",
        "plt.xlabel('iteration')\n",
        "plt.ylabel('loss')\n",
        "\n",
        "plt.subplot(2, 1, 2)\n",
        "plt.plot(solver.train_acc_history, '-o')\n",
        "plt.plot(solver.val_acc_history, '-o')\n",
        "plt.legend(['train', 'val'], loc='upper left')\n",
        "plt.xlabel('epoch')\n",
        "plt.ylabel('accuracy')\n",
        "plt.show()"
      ],
      "metadata": {
        "id": "PXe4Ve2JvpvY",
        "colab": {
          "base_uri": "https://localhost:8080/",
          "height": 498
        },
        "outputId": "bb91aeb9-9ac5-4d4d-a7bb-a0741ccce0c0"
      },
      "execution_count": null,
      "outputs": [
        {
          "output_type": "display_data",
          "data": {
            "text/plain": [
              "<Figure size 720x576 with 2 Axes>"
            ],
            "image/png": "[encoded data removed]"
          },
          "metadata": {
            "needs_background": "light"
          }
        }
      ]
    },
    {
      "cell_type": "markdown",
      "source": [
        "# Emotion Model with Dropout layer and learning decay"
      ],
      "metadata": {
        "id": "MIWV9fyr_Qcd"
      }
    },
    {
      "cell_type": "code",
      "source": [
        "from utils.classifiers.emotion_model_with_dropout import *\n",
        "\n",
        "model = EmotionModelWithDropout(weight_scale=1e-2, hidden_dim=256, reg=0.001)\n",
        "solver = Solver(\n",
        "    model,\n",
        "    data,\n",
        "    num_epochs=10,\n",
        "    batch_size=16,\n",
        "    update_rule='adam',\n",
        "    optim_config={'learning_rate': 1e-4},\n",
        "    verbose=True,\n",
        "    print_every=100,\n",
        "    lr_decay=1e-7\n",
        ")\n",
        "solver.train()"
      ],
      "metadata": {
        "id": "cwa94RSS_G09",
        "colab": {
          "base_uri": "https://localhost:8080/"
        },
        "outputId": "9ab31d99-179b-4d5f-9878-5d375c61e404"
      },
      "execution_count": 7,
      "outputs": [
        {
          "output_type": "stream",
          "name": "stdout",
          "text": [
            "(Iteration 1 / 17940) loss: 2.037600\n",
            "(Epoch 0 / 10) train acc: 0.130000; val_acc: 0.210000\n",
            "(Iteration 101 / 17940) loss: 1.887249\n",
            "(Iteration 201 / 17940) loss: 1.986873\n",
            "(Iteration 301 / 17940) loss: 1.855267\n",
            "(Iteration 401 / 17940) loss: 1.684182\n",
            "(Iteration 501 / 17940) loss: 1.653346\n",
            "(Iteration 601 / 17940) loss: 1.758154\n",
            "(Iteration 701 / 17940) loss: 1.901150\n",
            "(Iteration 801 / 17940) loss: 1.351150\n",
            "(Iteration 901 / 17940) loss: 1.483260\n",
            "(Iteration 1001 / 17940) loss: 1.760481\n",
            "(Iteration 1101 / 17940) loss: 1.234964\n",
            "(Iteration 1201 / 17940) loss: 2.033374\n",
            "(Iteration 1301 / 17940) loss: 1.901848\n",
            "(Iteration 1401 / 17940) loss: 1.467981\n",
            "(Iteration 1501 / 17940) loss: 1.537955\n",
            "(Iteration 1601 / 17940) loss: 1.471010\n",
            "(Iteration 1701 / 17940) loss: 1.472181\n",
            "(Epoch 1 / 10) train acc: 0.439000; val_acc: 0.410000\n",
            "(Iteration 1801 / 17940) loss: 1.681074\n",
            "(Iteration 1901 / 17940) loss: 2.035410\n",
            "(Iteration 2001 / 17940) loss: 1.827090\n",
            "(Iteration 2101 / 17940) loss: 1.185386\n",
            "(Iteration 2201 / 17940) loss: 1.523286\n",
            "(Iteration 2301 / 17940) loss: 1.156475\n",
            "(Iteration 2401 / 17940) loss: 1.713445\n",
            "(Iteration 2501 / 17940) loss: 1.677806\n",
            "(Iteration 2601 / 17940) loss: 1.628399\n",
            "(Iteration 2701 / 17940) loss: 1.684278\n",
            "(Iteration 2801 / 17940) loss: 1.556791\n",
            "(Iteration 2901 / 17940) loss: 1.453626\n",
            "(Iteration 3001 / 17940) loss: 1.385741\n",
            "(Iteration 3101 / 17940) loss: 1.633187\n",
            "(Iteration 3201 / 17940) loss: 1.346517\n",
            "(Iteration 3301 / 17940) loss: 1.525875\n",
            "(Iteration 3401 / 17940) loss: 1.696371\n",
            "(Iteration 3501 / 17940) loss: 1.217941\n",
            "(Epoch 2 / 10) train acc: 0.438000; val_acc: 0.420000\n",
            "(Iteration 3601 / 17940) loss: 1.490279\n",
            "(Iteration 3701 / 17940) loss: 1.568981\n",
            "(Iteration 3801 / 17940) loss: 1.475835\n",
            "(Iteration 3901 / 17940) loss: 1.708443\n",
            "(Iteration 4001 / 17940) loss: 1.445467\n",
            "(Iteration 4101 / 17940) loss: 1.458821\n",
            "(Iteration 4201 / 17940) loss: 1.443693\n",
            "(Iteration 4301 / 17940) loss: 1.667354\n",
            "(Iteration 4401 / 17940) loss: 1.645315\n",
            "(Iteration 4501 / 17940) loss: 1.464005\n",
            "(Iteration 4601 / 17940) loss: 1.500742\n",
            "(Iteration 4701 / 17940) loss: 1.566729\n",
            "(Iteration 4801 / 17940) loss: 1.514560\n",
            "(Iteration 4901 / 17940) loss: 1.710188\n",
            "(Iteration 5001 / 17940) loss: 1.637808\n",
            "(Iteration 5101 / 17940) loss: 1.477475\n",
            "(Iteration 5201 / 17940) loss: 1.624522\n",
            "(Iteration 5301 / 17940) loss: 1.472071\n",
            "(Epoch 3 / 10) train acc: 0.428000; val_acc: 0.440000\n",
            "(Iteration 5401 / 17940) loss: 1.340382\n",
            "(Iteration 5501 / 17940) loss: 1.572629\n",
            "(Iteration 5601 / 17940) loss: 1.536162\n",
            "(Iteration 5701 / 17940) loss: 1.822672\n",
            "(Iteration 5801 / 17940) loss: 1.595286\n",
            "(Iteration 5901 / 17940) loss: 1.463454\n",
            "(Iteration 6001 / 17940) loss: 1.448552\n",
            "(Iteration 6101 / 17940) loss: 1.718326\n",
            "(Iteration 6201 / 17940) loss: 1.700959\n",
            "(Iteration 6301 / 17940) loss: 2.021951\n",
            "(Iteration 6401 / 17940) loss: 1.203579\n",
            "(Iteration 6501 / 17940) loss: 1.445669\n",
            "(Iteration 6601 / 17940) loss: 1.429666\n",
            "(Iteration 6701 / 17940) loss: 1.501325\n",
            "(Iteration 6801 / 17940) loss: 1.484207\n",
            "(Iteration 6901 / 17940) loss: 1.192909\n",
            "(Iteration 7001 / 17940) loss: 1.585357\n",
            "(Iteration 7101 / 17940) loss: 1.579792\n",
            "(Epoch 4 / 10) train acc: 0.433000; val_acc: 0.420000\n",
            "(Iteration 7201 / 17940) loss: 1.611142\n",
            "(Iteration 7301 / 17940) loss: 1.602867\n",
            "(Iteration 7401 / 17940) loss: 1.717320\n",
            "(Iteration 7501 / 17940) loss: 1.308967\n",
            "(Iteration 7601 / 17940) loss: 1.590502\n",
            "(Iteration 7701 / 17940) loss: 1.709212\n",
            "(Iteration 7801 / 17940) loss: 1.468486\n",
            "(Iteration 7901 / 17940) loss: 1.108279\n",
            "(Iteration 8001 / 17940) loss: 1.552633\n",
            "(Iteration 8101 / 17940) loss: 1.287014\n",
            "(Iteration 8201 / 17940) loss: 1.617477\n",
            "(Iteration 8301 / 17940) loss: 1.275669\n",
            "(Iteration 8401 / 17940) loss: 1.543295\n",
            "(Iteration 8501 / 17940) loss: 1.487329\n",
            "(Iteration 8601 / 17940) loss: 1.318100\n",
            "(Iteration 8701 / 17940) loss: 1.438463\n",
            "(Iteration 8801 / 17940) loss: 1.301117\n",
            "(Iteration 8901 / 17940) loss: 1.341139\n",
            "(Epoch 5 / 10) train acc: 0.440000; val_acc: 0.430000\n",
            "(Iteration 9001 / 17940) loss: 1.585769\n",
            "(Iteration 9101 / 17940) loss: 1.552434\n",
            "(Iteration 9201 / 17940) loss: 1.565712\n",
            "(Iteration 9301 / 17940) loss: 1.342015\n",
            "(Iteration 9401 / 17940) loss: 1.780905\n",
            "(Iteration 9501 / 17940) loss: 1.200687\n",
            "(Iteration 9601 / 17940) loss: 1.280384\n",
            "(Iteration 9701 / 17940) loss: 1.431048\n",
            "(Iteration 9801 / 17940) loss: 1.550146\n",
            "(Iteration 9901 / 17940) loss: 1.588833\n",
            "(Iteration 10001 / 17940) loss: 1.212164\n",
            "(Iteration 10101 / 17940) loss: 1.696541\n",
            "(Iteration 10201 / 17940) loss: 1.521591\n",
            "(Iteration 10301 / 17940) loss: 1.506605\n",
            "(Iteration 10401 / 17940) loss: 1.266220\n",
            "(Iteration 10501 / 17940) loss: 1.685158\n",
            "(Iteration 10601 / 17940) loss: 1.439070\n",
            "(Iteration 10701 / 17940) loss: 1.732318\n",
            "(Epoch 6 / 10) train acc: 0.408000; val_acc: 0.410000\n",
            "(Iteration 10801 / 17940) loss: 1.553628\n",
            "(Iteration 10901 / 17940) loss: 1.623197\n",
            "(Iteration 11001 / 17940) loss: 1.546646\n",
            "(Iteration 11101 / 17940) loss: 1.455170\n",
            "(Iteration 11201 / 17940) loss: 1.470119\n",
            "(Iteration 11301 / 17940) loss: 1.471012\n",
            "(Iteration 11401 / 17940) loss: 1.558738\n",
            "(Iteration 11501 / 17940) loss: 1.470846\n",
            "(Iteration 11601 / 17940) loss: 1.647362\n",
            "(Iteration 11701 / 17940) loss: 1.668785\n",
            "(Iteration 11801 / 17940) loss: 1.532576\n",
            "(Iteration 11901 / 17940) loss: 1.496957\n",
            "(Iteration 12001 / 17940) loss: 1.438050\n",
            "(Iteration 12101 / 17940) loss: 1.610961\n",
            "(Iteration 12201 / 17940) loss: 1.441125\n",
            "(Iteration 12301 / 17940) loss: 1.409091\n",
            "(Iteration 12401 / 17940) loss: 1.632464\n",
            "(Iteration 12501 / 17940) loss: 1.605390\n",
            "(Epoch 7 / 10) train acc: 0.459000; val_acc: 0.450000\n",
            "(Iteration 12601 / 17940) loss: 1.378305\n",
            "(Iteration 12701 / 17940) loss: 1.569357\n",
            "(Iteration 12801 / 17940) loss: 1.306352\n",
            "(Iteration 12901 / 17940) loss: 1.671534\n",
            "(Iteration 13001 / 17940) loss: 1.437059\n",
            "(Iteration 13101 / 17940) loss: 1.595099\n",
            "(Iteration 13201 / 17940) loss: 1.642976\n",
            "(Iteration 13301 / 17940) loss: 1.770264\n",
            "(Iteration 13401 / 17940) loss: 1.829355\n",
            "(Iteration 13501 / 17940) loss: 1.457781\n",
            "(Iteration 13601 / 17940) loss: 1.359706\n",
            "(Iteration 13701 / 17940) loss: 1.868413\n",
            "(Iteration 13801 / 17940) loss: 1.378844\n",
            "(Iteration 13901 / 17940) loss: 1.532637\n",
            "(Iteration 14001 / 17940) loss: 1.561864\n",
            "(Iteration 14101 / 17940) loss: 1.362488\n",
            "(Iteration 14201 / 17940) loss: 1.399325\n",
            "(Iteration 14301 / 17940) loss: 1.814349\n",
            "(Epoch 8 / 10) train acc: 0.411000; val_acc: 0.430000\n",
            "(Iteration 14401 / 17940) loss: 1.657467\n",
            "(Iteration 14501 / 17940) loss: 1.662792\n",
            "(Iteration 14601 / 17940) loss: 1.494891\n",
            "(Iteration 14701 / 17940) loss: 1.600372\n",
            "(Iteration 14801 / 17940) loss: 1.645647\n",
            "(Iteration 14901 / 17940) loss: 1.738135\n",
            "(Iteration 15001 / 17940) loss: 1.502800\n",
            "(Iteration 15101 / 17940) loss: 1.550838\n",
            "(Iteration 15201 / 17940) loss: 1.579825\n",
            "(Iteration 15301 / 17940) loss: 1.718279\n",
            "(Iteration 15401 / 17940) loss: 1.465642\n",
            "(Iteration 15501 / 17940) loss: 1.206364\n",
            "(Iteration 15601 / 17940) loss: 1.686637\n",
            "(Iteration 15701 / 17940) loss: 1.493554\n",
            "(Iteration 15801 / 17940) loss: 1.781878\n",
            "(Iteration 15901 / 17940) loss: 1.387343\n",
            "(Iteration 16001 / 17940) loss: 1.614761\n",
            "(Iteration 16101 / 17940) loss: 1.709825\n",
            "(Epoch 9 / 10) train acc: 0.413000; val_acc: 0.400000\n",
            "(Iteration 16201 / 17940) loss: 1.691603\n",
            "(Iteration 16301 / 17940) loss: 1.604227\n",
            "(Iteration 16401 / 17940) loss: 1.440795\n",
            "(Iteration 16501 / 17940) loss: 1.480860\n",
            "(Iteration 16601 / 17940) loss: 1.254838\n",
            "(Iteration 16701 / 17940) loss: 1.172289\n",
            "(Iteration 16801 / 17940) loss: 1.605827\n",
            "(Iteration 16901 / 17940) loss: 1.616123\n",
            "(Iteration 17001 / 17940) loss: 1.396899\n",
            "(Iteration 17101 / 17940) loss: 1.563433\n",
            "(Iteration 17201 / 17940) loss: 1.334290\n",
            "(Iteration 17301 / 17940) loss: 1.448188\n",
            "(Iteration 17401 / 17940) loss: 1.440468\n",
            "(Iteration 17501 / 17940) loss: 1.417238\n",
            "(Iteration 17601 / 17940) loss: 1.761846\n",
            "(Iteration 17701 / 17940) loss: 1.685356\n",
            "(Iteration 17801 / 17940) loss: 1.275377\n",
            "(Iteration 17901 / 17940) loss: 1.094041\n",
            "(Epoch 10 / 10) train acc: 0.402000; val_acc: 0.430000\n"
          ]
        }
      ]
    },
    {
      "cell_type": "code",
      "source": [
        "# Print final training accuracy.\n",
        "print(\n",
        "    \"Full data training accuracy:\",\n",
        "    solver.check_accuracy(data['X_train'], data['y_train'])\n",
        ")"
      ],
      "metadata": {
        "id": "dZ1MRUsU_XzZ",
        "colab": {
          "base_uri": "https://localhost:8080/"
        },
        "outputId": "9019df4c-44db-4859-e02d-3900b23f6492"
      },
      "execution_count": 8,
      "outputs": [
        {
          "output_type": "stream",
          "name": "stdout",
          "text": [
            "Full data training accuracy: 0.42819324950363996\n"
          ]
        }
      ]
    },
    {
      "cell_type": "code",
      "source": [
        "# Print final validation accuracy.\n",
        "print(\n",
        "    \"Full data validation accuracy:\",\n",
        "    solver.check_accuracy(data['X_val'], data['y_val'])\n",
        ")"
      ],
      "metadata": {
        "id": "dAVyUVOP_YUk",
        "colab": {
          "base_uri": "https://localhost:8080/"
        },
        "outputId": "4d708e53-6e7d-455e-c320-fff1e79670ce"
      },
      "execution_count": 9,
      "outputs": [
        {
          "output_type": "stream",
          "name": "stdout",
          "text": [
            "Full data validation accuracy: 0.45\n"
          ]
        }
      ]
    },
    {
      "cell_type": "code",
      "source": [
        "plt.subplot(2, 1, 1)\n",
        "plt.plot(solver.loss_history, 'o')\n",
        "plt.xlabel('iteration')\n",
        "plt.ylabel('loss')\n",
        "\n",
        "plt.subplot(2, 1, 2)\n",
        "plt.plot(solver.train_acc_history, '-o')\n",
        "plt.plot(solver.val_acc_history, '-o')\n",
        "plt.legend(['train', 'val'], loc='upper left')\n",
        "plt.xlabel('epoch')\n",
        "plt.ylabel('accuracy')\n",
        "plt.show()"
      ],
      "metadata": {
        "id": "Wi01GJRU_bBj",
        "colab": {
          "base_uri": "https://localhost:8080/",
          "height": 497
        },
        "outputId": "befad973-bcbe-4947-c8d1-67cb1bf7500d"
      },
      "execution_count": 10,
      "outputs": [
        {
          "output_type": "display_data",
          "data": {
            "text/plain": [
              "<Figure size 720x576 with 2 Axes>"
            ],
            "image/png": "[encoded data removed]"
          },
          "metadata": {
            "needs_background": "light"
          }
        }
      ]
    }
  ],
  "metadata": {
    "colab": {
      "collapsed_sections": [],
      "name": "Main.ipynb",
      "provenance": []
    },
    "gpuClass": "standard",
    "kernelspec": {
      "display_name": "Python 3",
      "name": "python3"
    },
    "language_info": {
      "name": "python"
    }
  },
  "nbformat": 4,
  "nbformat_minor": 0
}